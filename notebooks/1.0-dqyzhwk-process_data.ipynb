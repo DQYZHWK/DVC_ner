{
 "cells": [
  {
   "cell_type": "markdown",
   "metadata": {},
   "source": [
    "### 目标：将原始文件进行处理，得到train,dev,test的输入列表、标签列表，根据原始的train数据集构造一个字典（实现单词到下标的映射）"
   ]
  },
  {
   "cell_type": "code",
   "execution_count": 2,
   "metadata": {},
   "outputs": [
    {
     "name": "stdout",
     "output_type": "stream",
     "text": [
      "[[1, 2, 3], [4, 5, 6], [7, 8, 9]]\n"
     ]
    }
   ],
   "source": [
    "import json\n",
    "\n",
    "# 示例列表套列表的对象\n",
    "data = [[1, 2, 3], [4, 5, 6], [7, 8, 9]]\n",
    "\n",
    "# 写入文件，并指定编码为UTF-8\n",
    "with open('data_file.json', 'w', encoding='utf-8') as f:\n",
    "    json.dump(data, f, ensure_ascii=False)  # 设置ensure_ascii为False以支持中文字符的写入\n",
    "\n",
    "# 从文件中读取数据，并指定编码为UTF-8\n",
    "with open('data_file.json', 'r', encoding='utf-8') as f:\n",
    "    loaded_data = json.load(f)\n",
    "\n",
    "# 打印读取出的数据\n",
    "print(loaded_data)  # 输出：[[1, 2, 3], [4, 5, 6], [7, 8, 9]]\n"
   ]
  },
  {
   "cell_type": "code",
   "execution_count": null,
   "metadata": {},
   "outputs": [],
   "source": []
  }
 ],
 "metadata": {
  "kernelspec": {
   "display_name": "dvc",
   "language": "python",
   "name": "python3"
  },
  "language_info": {
   "codemirror_mode": {
    "name": "ipython",
    "version": 3
   },
   "file_extension": ".py",
   "mimetype": "text/x-python",
   "name": "python",
   "nbconvert_exporter": "python",
   "pygments_lexer": "ipython3",
   "version": "3.9.17"
  },
  "orig_nbformat": 4
 },
 "nbformat": 4,
 "nbformat_minor": 2
}
